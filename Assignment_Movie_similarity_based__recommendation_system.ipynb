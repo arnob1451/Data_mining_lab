{
  "nbformat": 4,
  "nbformat_minor": 0,
  "metadata": {
    "colab": {
      "provenance": []
    },
    "kernelspec": {
      "name": "python3",
      "display_name": "Python 3"
    },
    "language_info": {
      "name": "python"
    }
  },
  "cells": [
    {
      "cell_type": "code",
      "execution_count": null,
      "metadata": {
        "id": "2W2GayoaK9MO"
      },
      "outputs": [],
      "source": [
        "#Name : Arnob Bokshi\n",
        "#ID : 2125051010\n",
        "import pandas as pd\n",
        "import numpy as np"
      ]
    },
    {
      "cell_type": "code",
      "source": [
        "from google.colab import drive\n",
        "drive.mount('/content/drive')"
      ],
      "metadata": {
        "id": "kSNLBqYgMJUr",
        "colab": {
          "base_uri": "https://localhost:8080/"
        },
        "outputId": "71d442ef-1b65-4e04-e538-a6b4f7d3ed4f"
      },
      "execution_count": null,
      "outputs": [
        {
          "output_type": "stream",
          "name": "stdout",
          "text": [
            "Mounted at /content/drive\n"
          ]
        }
      ]
    },
    {
      "cell_type": "code",
      "source": [
        "movie_df_raw = pd.read_csv(\"/content/drive/MyDrive/Dataset/Recommendation System /ratings.csv\")\n",
        "movie_names = pd.read_csv(\"/content/drive/MyDrive/Dataset/Recommendation System /movies.csv\")\n",
        "\n",
        "print(movie_df_raw.head())\n",
        "print(movie_names.head())"
      ],
      "metadata": {
        "id": "1_ecutemMPmb",
        "colab": {
          "base_uri": "https://localhost:8080/"
        },
        "outputId": "ad18077c-8cf4-42cb-dacc-452f3d33675d"
      },
      "execution_count": null,
      "outputs": [
        {
          "output_type": "stream",
          "name": "stdout",
          "text": [
            "   userId  movieId  rating  timestamp\n",
            "0       1        1     4.0  964982703\n",
            "1       1        3     4.0  964981247\n",
            "2       1        6     4.0  964982224\n",
            "3       1       47     5.0  964983815\n",
            "4       1       50     5.0  964982931\n",
            "   movieId                               title  \\\n",
            "0        1                    Toy Story (1995)   \n",
            "1        2                      Jumanji (1995)   \n",
            "2        3             Grumpier Old Men (1995)   \n",
            "3        4            Waiting to Exhale (1995)   \n",
            "4        5  Father of the Bride Part II (1995)   \n",
            "\n",
            "                                        genres  \n",
            "0  Adventure|Animation|Children|Comedy|Fantasy  \n",
            "1                   Adventure|Children|Fantasy  \n",
            "2                               Comedy|Romance  \n",
            "3                         Comedy|Drama|Romance  \n",
            "4                                       Comedy  \n"
          ]
        }
      ]
    },
    {
      "cell_type": "code",
      "source": [
        "movie_data = movie_df_raw.merge(movie_names, on=\"movieId\")\n",
        "\n",
        "# Display first few rows\n",
        "print(movie_data.head())\n"
      ],
      "metadata": {
        "id": "OnyoII_sMhsS",
        "colab": {
          "base_uri": "https://localhost:8080/"
        },
        "outputId": "3a75dc87-ba1d-4cb6-d9c7-4ebc40773064"
      },
      "execution_count": null,
      "outputs": [
        {
          "output_type": "stream",
          "name": "stdout",
          "text": [
            "   userId  movieId  rating  timestamp                        title  \\\n",
            "0       1        1     4.0  964982703             Toy Story (1995)   \n",
            "1       1        3     4.0  964981247      Grumpier Old Men (1995)   \n",
            "2       1        6     4.0  964982224                  Heat (1995)   \n",
            "3       1       47     5.0  964983815  Seven (a.k.a. Se7en) (1995)   \n",
            "4       1       50     5.0  964982931   Usual Suspects, The (1995)   \n",
            "\n",
            "                                        genres  \n",
            "0  Adventure|Animation|Children|Comedy|Fantasy  \n",
            "1                               Comedy|Romance  \n",
            "2                        Action|Crime|Thriller  \n",
            "3                             Mystery|Thriller  \n",
            "4                       Crime|Mystery|Thriller  \n"
          ]
        }
      ]
    },
    {
      "cell_type": "code",
      "source": [
        "user_movie_matrix = movie_data.pivot_table(index=\"userId\", columns=\"title\", values=\"rating\")\n",
        "user_movie_matrix.fillna(0, inplace=True)\n"
      ],
      "metadata": {
        "id": "Uuqu-biTEclh"
      },
      "execution_count": null,
      "outputs": []
    },
    {
      "cell_type": "code",
      "source": [
        "from sklearn.metrics.pairwise import cosine_similarity\n",
        "\n",
        "# Compute similarity between movies\n",
        "movie_similarity = cosine_similarity(user_movie_matrix.T)\n",
        "\n",
        "# Convert into a DataFrame\n",
        "movie_similarity_df = pd.DataFrame(movie_similarity, index=user_movie_matrix.columns, columns=user_movie_matrix.columns)\n"
      ],
      "metadata": {
        "id": "gGHdwwBiM0F0"
      },
      "execution_count": null,
      "outputs": []
    },
    {
      "cell_type": "code",
      "source": [
        "def recommend_similar_movies(movie_name, top_n=5):\n",
        "    similar_scores = movie_similarity_df[movie_name].sort_values(ascending=False)\n",
        "    return similar_scores.iloc[1:top_n+1]\n",
        "\n",
        "# Example: Find movies similar to \"Toy Story (1995)\"\n",
        "print(recommend_similar_movies(\"Toy Story (1995)\"))\n"
      ],
      "metadata": {
        "colab": {
          "base_uri": "https://localhost:8080/"
        },
        "id": "zeJJ6f4D3b-3",
        "outputId": "11ff4f35-18bf-447c-b477-147d8c4efcc4"
      },
      "execution_count": null,
      "outputs": [
        {
          "output_type": "stream",
          "name": "stdout",
          "text": [
            "title\n",
            "Toy Story 2 (1999)                           0.572601\n",
            "Jurassic Park (1993)                         0.565637\n",
            "Independence Day (a.k.a. ID4) (1996)         0.564262\n",
            "Star Wars: Episode IV - A New Hope (1977)    0.557388\n",
            "Forrest Gump (1994)                          0.547096\n",
            "Name: Toy Story (1995), dtype: float64\n"
          ]
        }
      ]
    },
    {
      "cell_type": "code",
      "source": [
        "def recommend_for_user(user_id, top_n=5):\n",
        "    # Get movies rated highly by the user\n",
        "    user_ratings = movie_data[movie_data[\"userId\"] == user_id].sort_values(by=\"rating\", ascending=False)\n",
        "    top_movies = user_ratings[\"title\"].head(5)  # Take top-rated movies\n",
        "\n",
        "    recommendations = []\n",
        "    for movie in top_movies:\n",
        "        similar_movies = recommend_similar_movies(movie, top_n=2)\n",
        "        recommendations.extend(similar_movies.index.tolist())\n",
        "\n",
        "    return set(recommendations)\n",
        "\n",
        "# Example: Recommend for User 1\n",
        "print(recommend_for_user(1))\n"
      ],
      "metadata": {
        "colab": {
          "base_uri": "https://localhost:8080/"
        },
        "id": "FDRXh2XJ3f8z",
        "outputId": "bf794f48-5192-405b-beec-489f376f6fc4"
      },
      "execution_count": null,
      "outputs": [
        {
          "output_type": "stream",
          "name": "stdout",
          "text": [
            "{'Grifters, The (1990)', 'Live and Let Die (1973)', 'Raiders of the Lost Ark (Indiana Jones and the Raiders of the Lost Ark) (1981)', 'Lord of the Rings, The (1978)', 'Indiana Jones and the Temple of Doom (1984)', 'Black Cauldron, The (1985)', 'Butch Cassidy and the Sundance Kid (1969)', 'Stand and Deliver (1988)', 'Thunderball (1965)', 'Valmont (1989)'}\n"
          ]
        }
      ]
    }
  ]
}